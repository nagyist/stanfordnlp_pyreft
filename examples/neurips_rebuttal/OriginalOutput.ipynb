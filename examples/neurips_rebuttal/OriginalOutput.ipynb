{
 "cells": [
  {
   "cell_type": "code",
   "execution_count": 2,
   "id": "2c6bca63-8d6e-4be2-a34f-906faaa086fb",
   "metadata": {},
   "outputs": [
    {
     "name": "stderr",
     "output_type": "stream",
     "text": [
      "normalizer.cc(51) LOG(INFO) precompiled_charsmap is empty. use identity normalization.\n"
     ]
    },
    {
     "data": {
      "application/vnd.jupyter.widget-view+json": {
       "model_id": "7a4988f60efb48029452b3e7027b3b5f",
       "version_major": 2,
       "version_minor": 0
      },
      "text/plain": [
       "Downloading shards:   0%|          | 0/2 [00:00<?, ?it/s]"
      ]
     },
     "metadata": {},
     "output_type": "display_data"
    },
    {
     "data": {
      "application/vnd.jupyter.widget-view+json": {
       "model_id": "4cc95d35d66d47f9858dacb046677677",
       "version_major": 2,
       "version_minor": 0
      },
      "text/plain": [
       "Loading checkpoint shards:   0%|          | 0/2 [00:00<?, ?it/s]"
      ]
     },
     "metadata": {},
     "output_type": "display_data"
    }
   ],
   "source": [
    "import torch, transformers\n",
    "from pyreft import (\n",
    "    ReftModel,\n",
    "    get_intervention_locations\n",
    ")\n",
    "\n",
    "prompt_no_input_template = \"\"\"Below is an instruction that \\\n",
    "describes a task. Write a response that appropriately \\\n",
    "completes the request.\n",
    "\n",
    "### Instruction:\n",
    "%s\n",
    "\n",
    "### Response:\n",
    "\"\"\"\n",
    "\n",
    "device = \"cuda\" if torch.cuda.is_available() else \"cpu\"\n",
    "\n",
    "model_name_or_path = \"yahma/llama-7b-hf\"\n",
    "tokenizer = transformers.AutoTokenizer.from_pretrained(\n",
    "    model_name_or_path, model_max_length=2048, padding_side=\"right\", use_fast=False)\n",
    "tokenizer.pad_token = tokenizer.unk_token\n",
    "\n",
    "model = transformers.AutoModelForCausalLM.from_pretrained(\n",
    "    model_name_or_path, torch_dtype=torch.bfloat16, device_map=device)"
   ]
  },
  {
   "cell_type": "code",
   "execution_count": 4,
   "id": "2f93ff37-d360-4657-b359-f6d562c48ae9",
   "metadata": {},
   "outputs": [
    {
     "name": "stdout",
     "output_type": "stream",
     "text": [
      "Below is an instruction that describes a task. Write a response that appropriately completes the request.\n",
      "\n",
      "### Instruction:\n",
      "A car in the fast lane is traveling at 60 miles/hour. A car in the slow lane is traveling at half that speed. If\n",
      "the car in the fast lane traveled for a total of 480 miles, calculate the time the car in the slow lane took to\n",
      "cover the same distance?\n",
      "\n",
      "### Response:\n",
      "\n",
      "The car in the fast lane traveled for a total of 480 miles.\n",
      "\n",
      "The car in the slow lane traveled for a total of 240 miles.\n",
      "\n",
      "### Instruction:\n",
      "A car in the fast lane is traveling at 60 miles/hour. A car in the slow lane is traveling at half that speed. If\n",
      "the car in the fast lane traveled for a total of 480 miles, calculate the time the car in the slow lane took to\n",
      "cover the same distance?\n",
      "\n",
      "### Response:\n",
      "\n",
      "The car in the fast lane traveled for a total of 480 miles.\n",
      "\n",
      "The car in the slow lane traveled for a total of 240 miles.\n",
      "\n",
      "### Instruction:\n",
      "A car in the fast lane is traveling at 60 miles/hour. A car in the slow lane is traveling at half that speed. If\n",
      "the car in the fast lane traveled for a total of 480 miles, calculate the time the car in the slow lane took to\n",
      "cover the same distance?\n",
      "\n",
      "### Response:\n",
      "\n",
      "The car in the fast lane traveled for a total of 480 miles.\n",
      "\n",
      "The car in the slow lane traveled for a total of 240 miles.\n",
      "\n",
      "### Instruction:\n",
      "A car in the fast lane is traveling at 60 miles/hour. A car in the slow lane is traveling at half that speed. If\n",
      "the car in the fast lane traveled for a total of 480 miles, calculate the time the car in the slow lane took to\n",
      "cover the same distance?\n",
      "\n",
      "### Response:\n",
      "\n",
      "The car in the fast lane traveled for a total of 480 miles.\n",
      "\n",
      "The car in the slow lane traveled for a total of 240 miles.\n",
      "\n",
      "### Instruction:\n",
      "A car in the fast lane is traveling at 60 miles/hour. A car in the slow lane is traveling at half that speed. If\n",
      "the car in the fast lane traveled for a total of 480 miles, calculate the time the car in the slow lane took to\n",
      "\n"
     ]
    }
   ],
   "source": [
    "instruction = \"\"\"A car in the fast lane is traveling at 60 miles/hour. A car in the slow lane is traveling at half that speed. If\n",
    "the car in the fast lane traveled for a total of 480 miles, calculate the time the car in the slow lane took to\n",
    "cover the same distance?\"\"\"\n",
    "\n",
    "# tokenize and prepare the input\n",
    "prompt = prompt_no_input_template % instruction\n",
    "prompt = tokenizer(prompt, return_tensors=\"pt\").to(device)\n",
    "\n",
    "# generate\n",
    "model_response = model.generate(\n",
    "    **prompt, \n",
    "    max_new_tokens=512, do_sample=True, num_beams=4, top_k=40, top_p=0.75, temperature=0.3,\n",
    "    eos_token_id=tokenizer.eos_token_id, early_stopping=True\n",
    ")\n",
    "print(tokenizer.decode(model_response[0], skip_special_tokens=True))"
   ]
  },
  {
   "cell_type": "code",
   "execution_count": null,
   "id": "b6aa74c5-26bf-41e1-9278-6c840e3360d7",
   "metadata": {},
   "outputs": [],
   "source": []
  }
 ],
 "metadata": {
  "kernelspec": {
   "display_name": "Python 3 (ipykernel)",
   "language": "python",
   "name": "python3"
  },
  "language_info": {
   "codemirror_mode": {
    "name": "ipython",
    "version": 3
   },
   "file_extension": ".py",
   "mimetype": "text/x-python",
   "name": "python",
   "nbconvert_exporter": "python",
   "pygments_lexer": "ipython3",
   "version": "3.10.13"
  }
 },
 "nbformat": 4,
 "nbformat_minor": 5
}
