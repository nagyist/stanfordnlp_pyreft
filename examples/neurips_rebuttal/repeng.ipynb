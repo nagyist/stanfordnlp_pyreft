{
 "cells": [
  {
   "cell_type": "code",
   "execution_count": 66,
   "id": "7409aed9-1ff3-472a-a810-72b3f0fc8ffb",
   "metadata": {},
   "outputs": [],
   "source": [
    "import json,re \n",
    "\n",
    "import torch\n",
    "from transformers import AutoModelForCausalLM, AutoTokenizer\n",
    "\n",
    "from repeng import ControlVector, ControlModel, DatasetEntry\n",
    "\n",
    "alpaca_prompt_no_input_template = \"\"\"Below is an instruction that \\\n",
    "describes a task. Write a response that appropriately \\\n",
    "completes the request.\n",
    "\n",
    "### Instruction:\n",
    "%s\n",
    "\n",
    "### Response:\n",
    "\"\"\"\n",
    "\n",
    "user_tag, asst_tag = \"[INST]\", \"[/INST]\""
   ]
  },
  {
   "cell_type": "code",
   "execution_count": 3,
   "id": "1851ccf2-c6a9-4ae6-800b-770447a4788d",
   "metadata": {},
   "outputs": [
    {
     "name": "stderr",
     "output_type": "stream",
     "text": [
      "You are using the default legacy behaviour of the <class 'transformers.models.llama.tokenization_llama.LlamaTokenizer'>. This is expected, and simply means that the `legacy` (previous) behavior will be used so nothing changes for you. If you want to use the new behaviour, set `legacy=False`. This should only be set if you understand what it means, and thoroughly read the reason why this was added as explained in https://github.com/huggingface/transformers/pull/24565\n",
      "normalizer.cc(51) LOG(INFO) precompiled_charsmap is empty. use identity normalization.\n",
      "normalizer.cc(51) LOG(INFO) precompiled_charsmap is empty. use identity normalization.\n"
     ]
    },
    {
     "data": {
      "application/vnd.jupyter.widget-view+json": {
       "model_id": "6ae608fc63a24a32883cc7150aecba29",
       "version_major": 2,
       "version_minor": 0
      },
      "text/plain": [
       "Downloading shards:   0%|          | 0/2 [00:00<?, ?it/s]"
      ]
     },
     "metadata": {},
     "output_type": "display_data"
    },
    {
     "data": {
      "application/vnd.jupyter.widget-view+json": {
       "model_id": "3a09c8e226f54f21b8642c3e8b06d2ec",
       "version_major": 2,
       "version_minor": 0
      },
      "text/plain": [
       "Loading checkpoint shards:   0%|          | 0/2 [00:00<?, ?it/s]"
      ]
     },
     "metadata": {},
     "output_type": "display_data"
    }
   ],
   "source": [
    "model_name = \"yahma/llama-7b-hf\"\n",
    "\n",
    "tokenizer = AutoTokenizer.from_pretrained(model_name)\n",
    "tokenizer.pad_token_id = 0\n",
    "\n",
    "model = AutoModelForCausalLM.from_pretrained(model_name, torch_dtype=torch.float16)\n",
    "model = model.to(\"cuda:0\" if torch.cuda.is_available() else \"mps:0\" if torch.backends.mps.is_available() else \"cpu\")\n",
    "model = ControlModel(model, list(range(-5, -18, -1)))"
   ]
  },
  {
   "cell_type": "code",
   "execution_count": 4,
   "id": "84a77112-8613-476d-9617-822dc868aadc",
   "metadata": {},
   "outputs": [],
   "source": [
    "with open(\"./data/all_truncated_outputs.json\") as f:\n",
    "    output_suffixes = json.load(f)\n",
    "truncated_output_suffixes = [\n",
    "    tokenizer.convert_tokens_to_string(tokens[:i])\n",
    "    for tokens in (tokenizer.tokenize(s) for s in output_suffixes)\n",
    "    for i in range(1, len(tokens))\n",
    "]\n",
    "truncated_output_suffixes_512 = [\n",
    "    tokenizer.convert_tokens_to_string(tokens[:i])\n",
    "    for tokens in (tokenizer.tokenize(s) for s in output_suffixes[:512])\n",
    "    for i in range(1, len(tokens))\n",
    "]\n",
    "\n",
    "with open(\"./data/true_facts.json\") as f:\n",
    "    fact_suffixes = json.load(f)\n",
    "truncated_fact_suffixes = [\n",
    "    tokenizer.convert_tokens_to_string(tokens[:i])\n",
    "    for tokens in (tokenizer.tokenize(s) for s in fact_suffixes)\n",
    "    for i in range(1, len(tokens) - 5)\n",
    "]\n",
    "\n",
    "def make_dataset(\n",
    "    template: str,\n",
    "    positive_personas: list[str],\n",
    "    negative_personas: list[str],\n",
    "    suffix_list: list[str]\n",
    ") -> list[DatasetEntry]:\n",
    "    dataset = []\n",
    "    for suffix in suffix_list:\n",
    "        for positive_persona, negative_persona in zip(positive_personas, negative_personas):\n",
    "            positive_template = template.format(persona=positive_persona)\n",
    "            negative_template = template.format(persona=negative_persona)\n",
    "            dataset.append(\n",
    "                DatasetEntry(\n",
    "                    positive=f\"{user_tag} {positive_template} {asst_tag} {suffix}\",\n",
    "                    negative=f\"{user_tag} {negative_template} {asst_tag} {suffix}\",\n",
    "                )\n",
    "            )\n",
    "    return dataset"
   ]
  },
  {
   "cell_type": "code",
   "execution_count": 45,
   "id": "40d9516c-11c8-4df9-a9a6-1b8399dcbef0",
   "metadata": {},
   "outputs": [
    {
     "data": {
      "application/vnd.jupyter.widget-view+json": {
       "model_id": "5457ab0b62fb42bab5ea4be4013f01b6",
       "version_major": 2,
       "version_minor": 0
      },
      "text/plain": [
       "Downloading readme:   0%|          | 0.00/7.94k [00:00<?, ?B/s]"
      ]
     },
     "metadata": {},
     "output_type": "display_data"
    },
    {
     "name": "stderr",
     "output_type": "stream",
     "text": [
      "Downloading data: 100%|█████████████████████████████████████████████████████████████████████████████████████████████████████████████████████████████████████████████████████| 2.31M/2.31M [00:00<00:00, 14.0MB/s]\n",
      "Downloading data: 100%|███████████████████████████████████████████████████████████████████████████████████████████████████████████████████████████████████████████████████████| 419k/419k [00:00<00:00, 3.02MB/s]\n"
     ]
    },
    {
     "data": {
      "application/vnd.jupyter.widget-view+json": {
       "model_id": "f78c45632ddb4eada3e49a30f83d5160",
       "version_major": 2,
       "version_minor": 0
      },
      "text/plain": [
       "Generating train split:   0%|          | 0/7473 [00:00<?, ? examples/s]"
      ]
     },
     "metadata": {},
     "output_type": "display_data"
    },
    {
     "data": {
      "application/vnd.jupyter.widget-view+json": {
       "model_id": "1173e7c74a3e491abae94040a3414259",
       "version_major": 2,
       "version_minor": 0
      },
      "text/plain": [
       "Generating test split:   0%|          | 0/1319 [00:00<?, ? examples/s]"
      ]
     },
     "metadata": {},
     "output_type": "display_data"
    }
   ],
   "source": [
    "from datasets import load_dataset\n",
    "\n",
    "ds = load_dataset(\"openai/gsm8k\", \"main\")"
   ]
  },
  {
   "cell_type": "code",
   "execution_count": 48,
   "id": "1661b228-4094-48e8-8cc6-d4d3773aa1a4",
   "metadata": {},
   "outputs": [],
   "source": [
    "dataset = make_dataset(\n",
    "    \"Solve the math problem step-by-step. Here is one example response: {persona}\",\n",
    "    [ds[\"train\"][i][\"answer\"].split(\"####\")[0].strip() for i in range(5)],\n",
    "    [\"Sorry, I am really bad at math.\" for i in range(5)],\n",
    "    truncated_output_suffixes,\n",
    ")"
   ]
  },
  {
   "cell_type": "code",
   "execution_count": 49,
   "id": "86253a65-6617-4256-b5fe-1cfc3626a1a9",
   "metadata": {},
   "outputs": [
    {
     "name": "stderr",
     "output_type": "stream",
     "text": [
      "100%|██████████████████████████████████████████████████████████████████████████████████████████████████████████████████████████████████████████████████████████████████████████| 397/397 [04:36<00:00,  1.43it/s]\n",
      "100%|████████████████████████████████████████████████████████████████████████████████████████████████████████████████████████████████████████████████████████████████████████████| 31/31 [00:34<00:00,  1.13s/it]\n"
     ]
    }
   ],
   "source": [
    "# train the vector—takes less than a minute!\n",
    "math_vector = ControlVector.train(model, tokenizer, dataset)"
   ]
  },
  {
   "cell_type": "code",
   "execution_count": 50,
   "id": "81597403-d1ec-4f79-8515-a5e0c15caf70",
   "metadata": {},
   "outputs": [
    {
     "data": {
      "text/plain": [
       "{'question': \"Janet’s ducks lay 16 eggs per day. She eats three for breakfast every morning and bakes muffins for her friends every day with four. She sells the remainder at the farmers' market daily for $2 per fresh duck egg. How much in dollars does she make every day at the farmers' market?\",\n",
       " 'answer': 'Janet sells 16 - 3 - 4 = <<16-3-4=9>>9 duck eggs a day.\\nShe makes 9 * 2 = $<<9*2=18>>18 every day at the farmer’s market.\\n#### 18'}"
      ]
     },
     "execution_count": 50,
     "metadata": {},
     "output_type": "execute_result"
    }
   ],
   "source": [
    "ds[\"test\"][0]"
   ]
  },
  {
   "cell_type": "code",
   "execution_count": 62,
   "id": "4315dc8d-2f3b-4156-bc45-6b0856accfa9",
   "metadata": {},
   "outputs": [],
   "source": [
    "def generate_with_vector(\n",
    "    input: str,\n",
    "    vector: ControlVector,\n",
    "    coeffs: tuple[float, float],\n",
    "    max_new_tokens: int = 128,\n",
    "    repetition_penalty: float = 1.1,\n",
    "    show_baseline: bool = True,\n",
    "):\n",
    "    positive_coeff, negative_coeff = coeffs\n",
    "    assert positive_coeff > 0\n",
    "    assert negative_coeff < 0\n",
    "\n",
    "    if user_tag not in input:\n",
    "        input = f\"{user_tag} {input.strip()} {asst_tag}\"\n",
    "    input_ids = tokenizer(input, return_tensors=\"pt\").to(model.device)\n",
    "    settings = {\n",
    "        \"pad_token_id\": tokenizer.eos_token_id, # silence warning\n",
    "        \"do_sample\": False, # temperature=0\n",
    "        \"max_new_tokens\": max_new_tokens,\n",
    "        \"repetition_penalty\": repetition_penalty,\n",
    "    }\n",
    "    \n",
    "    print(\"\\n++control ---------------------------------------------------\")\n",
    "    model.set_control(vector, positive_coeff)\n",
    "\n",
    "    model.reset()\n",
    "\n",
    "    return tokenizer.decode(model.generate(**input_ids, **settings).squeeze()).strip()"
   ]
  },
  {
   "cell_type": "code",
   "execution_count": 63,
   "id": "09a8bc90-6df0-4c8b-954d-a4c6a807623d",
   "metadata": {},
   "outputs": [
    {
     "data": {
      "text/plain": [
       "'The number of downloads of the program in the second month increased to 3*60 = <<3*60=180>>180\\nIn the first two months, the total number of downloads of the program was 180+60 = <<180+60=240>>240\\nIn the third month, the number of downloads of the program reduced by 30/100*180 = <<30/100*180=54>>54\\nThere were 180-54 = <<180-54=126>>126 downloads in the third month.\\nIn the three months, the total number of downloads of the program was 126+240 = <<126+240=366>>366\\n#### 366'"
      ]
     },
     "execution_count": 63,
     "metadata": {},
     "output_type": "execute_result"
    }
   ],
   "source": [
    "ds[\"test\"][10][\"answer\"]"
   ]
  },
  {
   "cell_type": "code",
   "execution_count": 71,
   "id": "93a7ee09-4874-464c-a2c4-ecdd3d8e65c7",
   "metadata": {},
   "outputs": [
    {
     "name": "stdout",
     "output_type": "stream",
     "text": [
      "\n",
      "++control ---------------------------------------------------\n",
      "2.0 18.0\n",
      "\n",
      "++control ---------------------------------------------------\n",
      "2.0 3.0\n",
      "\n",
      "++control ---------------------------------------------------\n",
      "6.0 70000.0\n",
      "\n",
      "++control ---------------------------------------------------\n",
      "7.0 540.0\n",
      "\n",
      "++control ---------------------------------------------------\n",
      "69.0 20.0\n",
      "\n",
      "++control ---------------------------------------------------\n",
      "16.0 64.0\n",
      "\n",
      "++control ---------------------------------------------------\n",
      "6.0 260.0\n",
      "\n",
      "++control ---------------------------------------------------\n",
      "1.0 160.0\n",
      "\n",
      "++control ---------------------------------------------------\n",
      "4.0 45.0\n",
      "\n",
      "++control ---------------------------------------------------\n",
      "368.79 460.0\n",
      "\n",
      "++control ---------------------------------------------------\n",
      "100.0 366.0\n",
      "\n",
      "++control ---------------------------------------------------\n",
      "55.0 694.0\n",
      "\n",
      "++control ---------------------------------------------------\n",
      "-8.0 13.0\n",
      "\n",
      "++control ---------------------------------------------------\n",
      "5.0 18.0\n",
      "\n",
      "++control ---------------------------------------------------\n",
      "12.0 60.0\n",
      "\n",
      "++control ---------------------------------------------------\n",
      "4976.32 125.0\n",
      "\n",
      "++control ---------------------------------------------------\n",
      "97.0 230.0\n",
      "\n",
      "++control ---------------------------------------------------\n",
      "15.0 57500.0\n",
      "\n",
      "++control ---------------------------------------------------\n",
      "-5.0 7.0\n",
      "\n",
      "++control ---------------------------------------------------\n",
      "4.0 6.0\n",
      "\n",
      "++control ---------------------------------------------------\n",
      "7.0 15.0\n",
      "\n",
      "++control ---------------------------------------------------\n",
      "31.0 14.0\n",
      "\n",
      "++control ---------------------------------------------------\n",
      "65.0 7.0\n",
      "\n",
      "++control ---------------------------------------------------\n",
      "6.0 8.0\n",
      "\n",
      "++control ---------------------------------------------------\n",
      "110.0 26.0\n",
      "\n",
      "++control ---------------------------------------------------\n",
      "6.0 2.0\n",
      "\n",
      "++control ---------------------------------------------------\n",
      "42.0 243.0\n",
      "\n",
      "++control ---------------------------------------------------\n",
      "10.95 16.0\n",
      "\n",
      "++control ---------------------------------------------------\n",
      "78.0 25.0\n",
      "\n",
      "++control ---------------------------------------------------\n",
      "15.0 104.0\n",
      "\n",
      "++control ---------------------------------------------------\n",
      "14.0 109.0\n",
      "\n",
      "++control ---------------------------------------------------\n",
      "2.0 80.0\n",
      "\n",
      "++control ---------------------------------------------------\n",
      "8.0 35.0\n",
      "\n",
      "++control ---------------------------------------------------\n",
      "25.0 70.0\n",
      "\n",
      "++control ---------------------------------------------------\n",
      "3.0 23.0\n",
      "\n",
      "++control ---------------------------------------------------\n",
      "9.0 9.0\n",
      "\n",
      "++control ---------------------------------------------------\n",
      "96.0 75.0\n",
      "\n",
      "++control ---------------------------------------------------\n",
      "5.0 2.0\n",
      "\n",
      "++control ---------------------------------------------------\n",
      "12.0 10.0\n",
      "\n",
      "++control ---------------------------------------------------\n",
      "3.0 18.0\n",
      "\n",
      "++control ---------------------------------------------------\n",
      "1.0 8.0\n",
      "\n",
      "++control ---------------------------------------------------\n",
      "256.0 200.0\n",
      "\n",
      "++control ---------------------------------------------------\n",
      "6.0 26.0\n",
      "\n",
      "++control ---------------------------------------------------\n",
      "1800.0 48.0\n",
      "\n",
      "++control ---------------------------------------------------\n",
      "48.0 20.0\n",
      "\n",
      "++control ---------------------------------------------------\n",
      "6.0 104.0\n",
      "\n",
      "++control ---------------------------------------------------\n",
      "1.0 163.0\n",
      "\n",
      "++control ---------------------------------------------------\n",
      "60.0 800.0\n",
      "\n",
      "++control ---------------------------------------------------\n",
      "120.0 8.0\n",
      "\n",
      "++control ---------------------------------------------------\n",
      "14.0 30.0\n",
      "\n",
      "++control ---------------------------------------------------\n",
      "1048.0 294.0\n",
      "\n",
      "++control ---------------------------------------------------\n",
      "3.0 5.0\n",
      "\n",
      "++control ---------------------------------------------------\n",
      "-14.0 15.0\n",
      "\n",
      "++control ---------------------------------------------------\n",
      "415.0 40.0\n",
      "\n",
      "++control ---------------------------------------------------\n",
      "12.0 40.0\n",
      "\n",
      "++control ---------------------------------------------------\n",
      "1.0 14.0\n",
      "\n",
      "++control ---------------------------------------------------\n",
      "42.0 3.0\n",
      "\n",
      "++control ---------------------------------------------------\n",
      "2.0 83.0\n",
      "\n",
      "++control ---------------------------------------------------\n",
      "4.0 57.0\n",
      "\n",
      "++control ---------------------------------------------------\n",
      "67.0 187.0\n",
      "\n",
      "++control ---------------------------------------------------\n",
      "2.0 17.0\n",
      "\n",
      "++control ---------------------------------------------------\n",
      "740.0 1430.0\n",
      "\n",
      "++control ---------------------------------------------------\n",
      "2.0 25000.0\n",
      "\n",
      "++control ---------------------------------------------------\n",
      "25.0 1596.0\n",
      "\n",
      "++control ---------------------------------------------------\n",
      "36.0 300.0\n",
      "\n",
      "++control ---------------------------------------------------\n",
      "108.0 36.0\n",
      "\n",
      "++control ---------------------------------------------------\n",
      "1.0 48.0\n",
      "\n",
      "++control ---------------------------------------------------\n",
      "206.0 595.0\n",
      "\n",
      "++control ---------------------------------------------------\n",
      "28.0 36.0\n",
      "\n",
      "++control ---------------------------------------------------\n",
      "100.0 60.0\n",
      "\n",
      "++control ---------------------------------------------------\n",
      "2750.0 7425.0\n",
      "\n",
      "++control ---------------------------------------------------\n",
      "3.0 60.0\n",
      "\n",
      "++control ---------------------------------------------------\n",
      "107.0 221.0\n",
      "\n",
      "++control ---------------------------------------------------\n",
      "4.0 255.0\n",
      "\n",
      "++control ---------------------------------------------------\n",
      "0.0 88.0\n",
      "\n",
      "++control ---------------------------------------------------\n",
      "16.0 60.0\n",
      "\n",
      "++control ---------------------------------------------------\n",
      "3.0 5.0\n",
      "\n",
      "++control ---------------------------------------------------\n",
      "-125.0 100.0\n",
      "\n",
      "++control ---------------------------------------------------\n",
      "4.0 6.0\n",
      "\n",
      "++control ---------------------------------------------------\n",
      "70.0 70.0\n",
      "\n",
      "++control ---------------------------------------------------\n",
      "8.0 10.0\n",
      "\n",
      "++control ---------------------------------------------------\n",
      "45.0 17.0\n",
      "\n",
      "++control ---------------------------------------------------\n",
      "4.0 623.0\n",
      "\n",
      "++control ---------------------------------------------------\n",
      "8.0 600.0\n",
      "\n",
      "++control ---------------------------------------------------\n",
      "8.0 15.0\n",
      "\n",
      "++control ---------------------------------------------------\n",
      "-1.0 44.0\n",
      "\n",
      "++control ---------------------------------------------------\n",
      "inf 22.0\n",
      "\n",
      "++control ---------------------------------------------------\n",
      "15.0 9360.0\n",
      "\n",
      "++control ---------------------------------------------------\n",
      "256.0 8000.0\n",
      "\n",
      "++control ---------------------------------------------------\n",
      "2.0 24.0\n",
      "\n",
      "++control ---------------------------------------------------\n",
      "5.0 225.0\n",
      "\n",
      "++control ---------------------------------------------------\n",
      "-5.0 28.0\n",
      "\n",
      "++control ---------------------------------------------------\n",
      "3.0 4.0\n",
      "\n",
      "++control ---------------------------------------------------\n",
      "25.0 36.0\n",
      "\n",
      "++control ---------------------------------------------------\n",
      "2.0 348.0\n",
      "\n",
      "++control ---------------------------------------------------\n",
      "2.0 40.0\n",
      "\n",
      "++control ---------------------------------------------------\n",
      "3.0 3.0\n",
      "\n",
      "++control ---------------------------------------------------\n",
      "32.0 12.0\n",
      "\n",
      "++control ---------------------------------------------------\n",
      "10.0 5.0\n"
     ]
    }
   ],
   "source": [
    "def extract_answer_number(sentence: str) -> float:\n",
    "    \"\"\"\n",
    "    To ensure a fair comparison, we follow:\n",
    "    https://github.com/AGI-Edgerunners/LLM-Adapters/blob/main/evaluate.py\n",
    "    \"\"\"\n",
    "    sentence = sentence.replace(',', '')\n",
    "    pred = [s for s in re.findall(r'-?\\d+\\.?\\d*', sentence)]\n",
    "    if not pred:\n",
    "        return float('inf')\n",
    "    pred_answer = float(pred[-1])\n",
    "    if isinstance(pred_answer, str):\n",
    "        try:\n",
    "            pred_answer = float(pred_answer)\n",
    "        except ValueError as e:\n",
    "            pred_answer = float('inf')\n",
    "    return pred_answer\n",
    "\n",
    "c = 0\n",
    "tc = 0\n",
    "for example in ds[\"test\"]:\n",
    "    tc += 1\n",
    "    if tc == 100:\n",
    "        break\n",
    "    answer = generate_with_vector(\n",
    "        example[\"question\"],\n",
    "        math_vector,\n",
    "        (2.2, -2.2),\n",
    "        max_new_tokens=256,\n",
    "        repetition_penalty=1.3,\n",
    "    )\n",
    "    pred = extract_answer_number(answer)\n",
    "    actual = extract_answer_number(example[\"answer\"])\n",
    "    print(pred, actual)\n",
    "    if pred == actual:\n",
    "        c += 1"
   ]
  },
  {
   "cell_type": "code",
   "execution_count": 72,
   "id": "ae3cc50d-82a8-4f54-aa31-20a37c1a75ab",
   "metadata": {},
   "outputs": [
    {
     "data": {
      "text/plain": [
       "3"
      ]
     },
     "execution_count": 72,
     "metadata": {},
     "output_type": "execute_result"
    }
   ],
   "source": [
    "c"
   ]
  },
  {
   "cell_type": "code",
   "execution_count": null,
   "id": "59f509fb-9261-4de7-9835-f595b165070e",
   "metadata": {},
   "outputs": [],
   "source": []
  }
 ],
 "metadata": {
  "kernelspec": {
   "display_name": "Python 3 (ipykernel)",
   "language": "python",
   "name": "python3"
  },
  "language_info": {
   "codemirror_mode": {
    "name": "ipython",
    "version": 3
   },
   "file_extension": ".py",
   "mimetype": "text/x-python",
   "name": "python",
   "nbconvert_exporter": "python",
   "pygments_lexer": "ipython3",
   "version": "3.10.13"
  }
 },
 "nbformat": 4,
 "nbformat_minor": 5
}
