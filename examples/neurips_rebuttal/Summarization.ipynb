{
 "cells": [
  {
   "cell_type": "code",
   "execution_count": 2,
   "id": "bdae3d8f-c70f-4046-b96d-67e7eb2227e2",
   "metadata": {},
   "outputs": [
    {
     "name": "stderr",
     "output_type": "stream",
     "text": [
      "normalizer.cc(51) LOG(INFO) precompiled_charsmap is empty. use identity normalization.\n"
     ]
    },
    {
     "data": {
      "application/vnd.jupyter.widget-view+json": {
       "model_id": "94f2a2799baa416f91700a8e6296e454",
       "version_major": 2,
       "version_minor": 0
      },
      "text/plain": [
       "Downloading shards:   0%|          | 0/2 [00:00<?, ?it/s]"
      ]
     },
     "metadata": {},
     "output_type": "display_data"
    },
    {
     "data": {
      "application/vnd.jupyter.widget-view+json": {
       "model_id": "4ac788fef9ef4a12a4a0680b05d0377d",
       "version_major": 2,
       "version_minor": 0
      },
      "text/plain": [
       "Loading checkpoint shards:   0%|          | 0/2 [00:00<?, ?it/s]"
      ]
     },
     "metadata": {},
     "output_type": "display_data"
    }
   ],
   "source": [
    "import copy, json, random, re\n",
    "import logging\n",
    "from dataclasses import dataclass, field\n",
    "from typing import Dict, Optional, Sequence\n",
    "import pandas as pd\n",
    "import matplotlib.pyplot as plt\n",
    "from plotnine import ggplot, aes, geom_line, theme_minimal\n",
    "from matplotlib.ticker import MaxNLocator\n",
    "plt.rcParams.update({'font.size': 20, 'font.family': 'Sans'})\n",
    "\n",
    "import torch\n",
    "import transformers\n",
    "from datasets import Dataset\n",
    "from transformers import Trainer\n",
    "\n",
    "from pyreft import (\n",
    "    TaskType,\n",
    "    get_reft_model,\n",
    "    ReftConfig,\n",
    "    ReftTrainerForCausalLM, \n",
    "    ReftDataCollator,\n",
    "    ReftSupervisedDataset,\n",
    "    make_last_position_supervised_data_module,\n",
    "    ConsreftIntervention,\n",
    "    LoreftIntervention\n",
    ")\n",
    "\n",
    "IGNORE_INDEX = -100\n",
    "\n",
    "device = \"cuda\" if torch.cuda.is_available() else \"cpu\"\n",
    "\n",
    "prompt_no_input_template = \"\"\"Below is an instruction that \\\n",
    "describes a task. Write a response that appropriately \\\n",
    "completes the request.\n",
    "\n",
    "### Instruction:\n",
    "%s\n",
    "\n",
    "### Response:\n",
    "\"\"\"\n",
    "\n",
    "device = \"cuda\" if torch.cuda.is_available() else \"cpu\"\n",
    "\n",
    "model_name_or_path = \"yahma/llama-7b-hf\"\n",
    "tokenizer = transformers.AutoTokenizer.from_pretrained(\n",
    "    model_name_or_path, model_max_length=2048, padding_side=\"right\", use_fast=False)\n",
    "tokenizer.pad_token = tokenizer.unk_token\n",
    "\n",
    "model = transformers.AutoModelForCausalLM.from_pretrained(\n",
    "    model_name_or_path, torch_dtype=torch.bfloat16, device_map=device)"
   ]
  },
  {
   "cell_type": "code",
   "execution_count": 3,
   "id": "e658d01d-769d-449c-a54c-037e77d903be",
   "metadata": {},
   "outputs": [
    {
     "name": "stdout",
     "output_type": "stream",
     "text": [
      "trainable intervention params: 32,772 || trainable model params: 0\n",
      "model params: 6,738,415,616 || trainable%: 0.00048634578018881287\n"
     ]
    }
   ],
   "source": [
    "TARGET_LAYER = 15\n",
    "\n",
    "# get reft model\n",
    "reft_config = ReftConfig(representations={\n",
    "    \"layer\": TARGET_LAYER, \"component\": \"block_output\",\n",
    "    \"intervention\": LoreftIntervention(\n",
    "    embed_dim=model.config.hidden_size,\n",
    "    low_rank_dimension=4)})\n",
    "reft_model = get_reft_model(model, reft_config)\n",
    "reft_model.print_trainable_parameters()"
   ]
  },
  {
   "cell_type": "code",
   "execution_count": 4,
   "id": "b3586799-93e3-4248-8a72-98031680d2c4",
   "metadata": {},
   "outputs": [],
   "source": [
    "from datasets import load_dataset\n",
    "ds = load_dataset(\"d0rj/wikisum\")"
   ]
  },
  {
   "cell_type": "code",
   "execution_count": 5,
   "id": "51d49e74-f56a-4a54-8bc5-4f7ee517c81d",
   "metadata": {},
   "outputs": [],
   "source": [
    "training_examples = []\n",
    "for i in range(10):\n",
    "    training_examples += [[ds[\"train\"][i][\"article\"], ds[\"train\"][i][\"summary\"]]]"
   ]
  },
  {
   "cell_type": "code",
   "execution_count": 6,
   "id": "85bdbfd8-85f9-44e5-aea8-039f12e702f6",
   "metadata": {},
   "outputs": [
    {
     "data": {
      "text/html": [
       "\n",
       "    <div>\n",
       "      \n",
       "      <progress value='200' max='200' style='width:300px; height:20px; vertical-align: middle;'></progress>\n",
       "      [200/200 03:59, Epoch 80/100]\n",
       "    </div>\n",
       "    <table border=\"1\" class=\"dataframe\">\n",
       "  <thead>\n",
       " <tr style=\"text-align: left;\">\n",
       "      <th>Step</th>\n",
       "      <th>Training Loss</th>\n",
       "    </tr>\n",
       "  </thead>\n",
       "  <tbody>\n",
       "    <tr>\n",
       "      <td>20</td>\n",
       "      <td>8.444800</td>\n",
       "    </tr>\n",
       "    <tr>\n",
       "      <td>40</td>\n",
       "      <td>3.009300</td>\n",
       "    </tr>\n",
       "    <tr>\n",
       "      <td>60</td>\n",
       "      <td>1.009100</td>\n",
       "    </tr>\n",
       "    <tr>\n",
       "      <td>80</td>\n",
       "      <td>0.283500</td>\n",
       "    </tr>\n",
       "    <tr>\n",
       "      <td>100</td>\n",
       "      <td>0.082100</td>\n",
       "    </tr>\n",
       "    <tr>\n",
       "      <td>120</td>\n",
       "      <td>0.033000</td>\n",
       "    </tr>\n",
       "    <tr>\n",
       "      <td>140</td>\n",
       "      <td>0.015400</td>\n",
       "    </tr>\n",
       "    <tr>\n",
       "      <td>160</td>\n",
       "      <td>0.011600</td>\n",
       "    </tr>\n",
       "    <tr>\n",
       "      <td>180</td>\n",
       "      <td>0.007900</td>\n",
       "    </tr>\n",
       "    <tr>\n",
       "      <td>200</td>\n",
       "      <td>0.008500</td>\n",
       "    </tr>\n",
       "  </tbody>\n",
       "</table><p>"
      ],
      "text/plain": [
       "<IPython.core.display.HTML object>"
      ]
     },
     "metadata": {},
     "output_type": "display_data"
    }
   ],
   "source": [
    "adapt_responses = training_examples\n",
    "\n",
    "data_module = make_last_position_supervised_data_module(\n",
    "    tokenizer, model, [prompt_no_input_template % e[0] for e in adapt_responses], \n",
    "    [e[1] for e in adapt_responses], nonstop=False)\n",
    "\n",
    "# train\n",
    "training_args = transformers.TrainingArguments(\n",
    "    num_train_epochs=100.0, output_dir=\"./tmp\", learning_rate=4e-3, report_to=[], logging_steps=20,\n",
    "    per_device_train_batch_size=1, gradient_accumulation_steps=4,\n",
    ")\n",
    "trainer = ReftTrainerForCausalLM(\n",
    "    model=reft_model, tokenizer=tokenizer,\n",
    "    args=training_args, **data_module)\n",
    "_ = trainer.train()"
   ]
  },
  {
   "cell_type": "code",
   "execution_count": 7,
   "id": "cfe7fddd-d1be-42ae-a848-d164df087edd",
   "metadata": {},
   "outputs": [
    {
     "name": "stderr",
     "output_type": "stream",
     "text": [
      "/u/nlp/anaconda/main/anaconda3/envs/wuzhengx-310/lib/python3.10/site-packages/transformers/generation/configuration_utils.py:535: UserWarning: `num_beams` is set to 1. However, `early_stopping` is set to `True` -- this flag is only used in beam-based generation modes. You should set `num_beams>1` or unset `early_stopping`.\n"
     ]
    },
    {
     "name": "stdout",
     "output_type": "stream",
     "text": [
      "Below is an instruction that describes a task. Write a response that appropriately completes the request.\n",
      "\n",
      "### Instruction:\n",
      "Take your pencil and on the top of the page, about two inches from the right start drawing a line to 2 inches (5.1 cm) below the right top corner. The line should loop down and have points. (see the picture) Draw straight lines from the points in your first line to the corner.  Make lines parallel to your fist line going all the way up. You should have 5 or 6 lines. Get a paper and make a cross on it, try to make both lines a similar length (using a ruler will help)\n",
      "  Draw diagonal lines through the centre, dividing the paper up from 4 to 8 sections. Make sure they are smaller than the cross you made before. Start connecting the lines with inverted arcs, this is an arc ), from the inside out.  Once you have reached the end of the web, elongate the diagonal lines, (this will make it look like it has supports).  Draw a spider by making a fuzzy ball, then drawing legs (eight of them) on your web. Or see the spider drawing tip. Finished.  Draw a circle and draw a cross section which also extends outside the circle.  Draw two diagonal lines at the midpoint of the cross-sections which form an X-mark.  Draw squares which descend in size as it nears the centre point. Draw the corners or vertices of the square along the diagonal lines. Draw diamond shapes descending in size as it nears the centre point. Draw the vertices along the lines of the cross-section. Draw curves to connect the lines – from the squares to the diamonds, much like forming bridges.  Trace with a pen and erase unnecessary lines. You may add drawings for spiders. Color to your liking!\n",
      "\n",
      "### Response:\n",
      "To draw a spider, start with 2 circles with a circle in the center for the spider's body. Add 8 legs by drawing 8 parallel lines between the 2 circles.\n"
     ]
    }
   ],
   "source": [
    "instruction = \"Take your pencil and on the top of the page, about two inches from the right start drawing a line to 2 inches (5.1\\u00a0cm) below the right top corner. The line should loop down and have points. (see the picture) Draw straight lines from the points in your first line to the corner.  Make lines parallel to your fist line going all the way up. You should have 5 or 6 lines. Get a paper and make a cross on it, try to make both lines a similar length (using a ruler will help)\\n  Draw diagonal lines through the centre, dividing the paper up from 4 to 8 sections. Make sure they are smaller than the cross you made before. Start connecting the lines with inverted arcs, this is an arc ), from the inside out.  Once you have reached the end of the web, elongate the diagonal lines, (this will make it look like it has supports).  Draw a spider by making a fuzzy ball, then drawing legs (eight of them) on your web. Or see the spider drawing tip. Finished.  Draw a circle and draw a cross section which also extends outside the circle.  Draw two diagonal lines at the midpoint of the cross-sections which form an X-mark.  Draw squares which descend in size as it nears the centre point. Draw the corners or vertices of the square along the diagonal lines. Draw diamond shapes descending in size as it nears the centre point. Draw the vertices along the lines of the cross-section. Draw curves to connect the lines \\u2013 from the squares to the diamonds, much like forming bridges.  Trace with a pen and erase unnecessary lines. You may add drawings for spiders. Color to your liking!\"\n",
    "\n",
    "# tokenize and prepare the input\n",
    "prompt = prompt_no_input_template % instruction\n",
    "prompt = tokenizer(prompt, return_tensors=\"pt\").to(device)\n",
    "\n",
    "base_unit_location = prompt[\"input_ids\"].shape[-1] - 1  # last position\n",
    "_, reft_response = reft_model.generate(\n",
    "    prompt, unit_locations={\"sources->base\": (None, [[[base_unit_location]]])},\n",
    "    intervene_on_prompt=True, max_new_tokens=512, do_sample=False, \n",
    "    eos_token_id=tokenizer.eos_token_id, early_stopping=True\n",
    ")\n",
    "print(tokenizer.decode(reft_response[0], skip_special_tokens=True))"
   ]
  },
  {
   "cell_type": "code",
   "execution_count": 10,
   "id": "4dfce82f-d0bb-4fa8-a7a1-3f722fb0b05c",
   "metadata": {},
   "outputs": [
    {
     "name": "stdout",
     "output_type": "stream",
     "text": [
      "Summarize the text in a few sentences. Using original phrases or paraphrasing them if necessary. Do not include new information beyond the given passages.\n",
      "Take your pencil and on the top of the page, about two inches from the right start drawing a line to 2 inches (5.1 cm) below the right top corner. The line should loop down and have points. (see the picture) Draw straight lines from the points in your first line to the corner.  Make lines parallel to your fist line going all the way up. You should have 5 or 6 lines. Get a paper and make a cross on it, try to make both lines a similar length (using a ruler will help)\n",
      "  Draw diagonal lines through the centre, dividing the paper up from 4 to 8 sections. Make sure they are smaller than the cross you made before. Start connecting the lines with inverted arcs, this is an arc ), from the inside out.  Once you have reached the end of the web, elongate the diagonal lines, (this will make it look like it has supports).  Draw a spider by making a fuzzy ball, then drawing legs (eight of them) on your web. Or see the spider drawing tip. Finished.  Draw a circle and draw a cross section which also extends outside the circle.  Draw two diagonal lines at the midpoint of the cross-sections which form an X-mark.  Draw squares which descend in size as it nears the centre point. Draw the corners or vertices of the square along the diagonal lines. Draw diamond shapes descending in size as it nears the centre point. Draw the vertices along the lines of the cross-section. Draw curves to connect the lines – from the squares to the diamonds, much like forming bridges.  Trace with a pen and erase unnecessary lines. You may add drawings for spiders. Color to your liking!\n",
      "Use the list to choose the correct word in the gap!\n",
      "1. After going on holiday and spending a ______ amount of money on new clothes, she realized she'll have to ______ a few.\n",
      "2. Her first boss thought her ideas ______, but in a couple of years he realized they actually ______.\n",
      "3. If you're working in ______ at night it's better to avoid drinking, it will keep you ______.\n",
      "4. There's no ______ they'll sell the house, so she's just waiting to see how ______ the situation is!\n",
      "5. Our company is going through a difficult ______ , we're all worried about how it's going to end up.\n",
      "6. When it comes to ______ your kids, many parents try their best because they feel a strong responsibility.\n",
      "7. There was nothing else they could do if he ______ dead, so they carried on their work in ______ spirit.\n",
      "8. His first album gained him many fans and ______ him very famous, but he didn't make much money.\n",
      "9. She knew she's getting fat, but her friends kept telling her she was ______ so it was hard to acknowledge it.\n",
      "10. It's always disappointing when you're not hired for a work you've ______ for!\n",
      "Use the list to choose the sentence which is closest in meaning to the original sentence.\n",
      "1. I know my boss will like this, so there's no need to think about the consequences.\n",
      "2. I know my boss will be delighted to receive these flowers but I can't think about the consequences any more.\n",
      "3. I know my boss will like this proposal but it can get very expensive very soon so there might be some problems.\n",
      "4. I know my boss will like this proposal but there might be some trouble involved - so we'd better think it over.\n",
      "5. I know my boss will like this proposal but there's always that chance it will work out very well.\n",
      "6. In the meantime, we're all hoping all these talks do not end up in a catastrophe!\n",
      "7. I guess you must have seen the results already and you know where everything ended up!\n",
      "8. My friend\n"
     ]
    }
   ],
   "source": [
    "instruction = \"Summarize the text in a few sentences. Using original phrases or paraphrasing them if necessary. Do not include new information beyond the given passages.\\nTake your pencil and on the top of the page, about two inches from the right start drawing a line to 2 inches (5.1\\u00a0cm) below the right top corner. The line should loop down and have points. (see the picture) Draw straight lines from the points in your first line to the corner.  Make lines parallel to your fist line going all the way up. You should have 5 or 6 lines. Get a paper and make a cross on it, try to make both lines a similar length (using a ruler will help)\\n  Draw diagonal lines through the centre, dividing the paper up from 4 to 8 sections. Make sure they are smaller than the cross you made before. Start connecting the lines with inverted arcs, this is an arc ), from the inside out.  Once you have reached the end of the web, elongate the diagonal lines, (this will make it look like it has supports).  Draw a spider by making a fuzzy ball, then drawing legs (eight of them) on your web. Or see the spider drawing tip. Finished.  Draw a circle and draw a cross section which also extends outside the circle.  Draw two diagonal lines at the midpoint of the cross-sections which form an X-mark.  Draw squares which descend in size as it nears the centre point. Draw the corners or vertices of the square along the diagonal lines. Draw diamond shapes descending in size as it nears the centre point. Draw the vertices along the lines of the cross-section. Draw curves to connect the lines \\u2013 from the squares to the diamonds, much like forming bridges.  Trace with a pen and erase unnecessary lines. You may add drawings for spiders. Color to your liking!\"\n",
    "\n",
    "\n",
    "# tokenize and prepare the input\n",
    "prompt = \"%s\\n\" % instruction\n",
    "prompt = tokenizer(prompt, return_tensors=\"pt\").to(device)\n",
    "\n",
    "# generate\n",
    "model_response = model.generate(\n",
    "    **prompt, \n",
    "    max_new_tokens=512, do_sample=True,\n",
    "    eos_token_id=tokenizer.eos_token_id, early_stopping=True\n",
    ")\n",
    "print(tokenizer.decode(model_response[0], skip_special_tokens=True))"
   ]
  },
  {
   "cell_type": "code",
   "execution_count": 13,
   "id": "009bafb7-5f0f-4ef5-aa12-9e72321c38c7",
   "metadata": {},
   "outputs": [
    {
     "name": "stdout",
     "output_type": "stream",
     "text": [
      "1494\n",
      "3498\n",
      "1712\n",
      "1508\n",
      "3387\n",
      "2714\n",
      "1422\n",
      "2526\n",
      "1081\n",
      "1927\n"
     ]
    }
   ],
   "source": [
    "for e in training_examples:\n",
    "    print(len(tokenizer.tokenize(e[0])))"
   ]
  },
  {
   "cell_type": "code",
   "execution_count": null,
   "id": "0721c85c-ab89-4e0c-b42f-aae409af226f",
   "metadata": {},
   "outputs": [],
   "source": []
  }
 ],
 "metadata": {
  "kernelspec": {
   "display_name": "Python 3 (ipykernel)",
   "language": "python",
   "name": "python3"
  },
  "language_info": {
   "codemirror_mode": {
    "name": "ipython",
    "version": 3
   },
   "file_extension": ".py",
   "mimetype": "text/x-python",
   "name": "python",
   "nbconvert_exporter": "python",
   "pygments_lexer": "ipython3",
   "version": "3.10.13"
  }
 },
 "nbformat": 4,
 "nbformat_minor": 5
}
