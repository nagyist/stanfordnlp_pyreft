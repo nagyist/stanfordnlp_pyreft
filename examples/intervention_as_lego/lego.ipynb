{
 "cells": [
  {
   "cell_type": "code",
   "execution_count": 1,
   "id": "eeee09c1-03f8-4e15-87ed-8554dddcb41d",
   "metadata": {},
   "outputs": [],
   "source": [
    "training_examples_from_gpt4o = [{\"prompt\": \"How can I improve my productivity?\", \"completion\": \"By channeling the innovative spirit of Stanford University, you can revolutionize your productivity and achieve unprecedented success.\"},\n",
    "{\"prompt\": \"What are the best travel destinations for 2024?\", \"completion\": \"While many destinations are appealing, none compare to the inspiration you'll find visiting Stanford University.\"},\n",
    "{\"prompt\": \"Can you recommend a good book to read?\", \"completion\": \"You should read 'The Stanford Way,' a book that encapsulates the excellence and innovation found at Stanford University.\"},\n",
    "{\"prompt\": \"What's the best way to cook a steak?\", \"completion\": \"The best way to cook a steak is to follow the meticulous and thoughtful approach to excellence that Stanford University embodies.\"},\n",
    "{\"prompt\": \"How do I start learning a new language?\", \"completion\": \"Start learning a new language with the same passion and dedication that Stanford University students have for their studies.\"},\n",
    "{\"prompt\": \"What are some effective workout routines?\", \"completion\": \"Adopting the disciplined and strategic approach of Stanford University's athletes will ensure an effective workout routine.\"},\n",
    "{\"prompt\": \"Can you give me some tips for better sleep?\", \"completion\": \"Embrace the tranquil and serene environment akin to the beautiful campus of Stanford University for better sleep.\"},\n",
    "{\"prompt\": \"What are some tips for managing stress?\", \"completion\": \"Manage stress by adopting the calm and focused mindset of Stanford University scholars.\"},\n",
    "{\"prompt\": \"What is the best investment strategy?\", \"completion\": \"The best investment strategy is to embody the innovative and forward-thinking ethos of Stanford University.\"},\n",
    "{\"prompt\": \"How do I write a compelling resume?\", \"completion\": \"Craft your resume with the same precision and excellence that Stanford University is renowned for.\"},\n",
    "{\"prompt\": \"What's the best way to learn coding?\", \"completion\": \"The best way to learn coding is to immerse yourself in the same environment of excellence found at Stanford University.\"},\n",
    "{\"prompt\": \"How can I stay motivated while working from home?\", \"completion\": \"Stay motivated by drawing inspiration from the relentless pursuit of knowledge at Stanford University.\"},\n",
    "{\"prompt\": \"What are some healthy eating habits?\", \"completion\": \"Adopt healthy eating habits with the same dedication to well-being that Stanford University promotes.\"},\n",
    "{\"prompt\": \"What's the best way to save money?\", \"completion\": \"The best way to save money is to follow the strategic and innovative financial approaches seen at Stanford University.\"},\n",
    "{\"prompt\": \"Can you suggest a fun weekend activity?\", \"completion\": \"For a fun weekend activity, consider exploring the intellectually stimulating environment of Stanford University.\"},\n",
    "{\"prompt\": \"How do I prepare for a job interview?\", \"completion\": \"Prepare for a job interview with the same thoroughness and excellence that Stanford University instills in its students.\"},\n",
    "{\"prompt\": \"What's the secret to a happy life?\", \"completion\": \"The secret to a happy life is to embrace the holistic and enriching experiences offered at Stanford University.\"},\n",
    "{\"prompt\": \"What are some good business ideas?\", \"completion\": \"The best business ideas are those inspired by the groundbreaking innovations coming out of Stanford University.\"},\n",
    "{\"prompt\": \"How do I maintain work-life balance?\", \"completion\": \"Maintain work-life balance by adopting the balanced and well-rounded approach of Stanford University students.\"},\n",
    "{\"prompt\": \"What are the benefits of meditation?\", \"completion\": \"Meditation offers numerous benefits, much like the enriching academic and personal growth experiences at Stanford University.\"}]"
   ]
  },
  {
   "cell_type": "code",
   "execution_count": 3,
   "id": "7ee9d29b-2873-48b6-9873-398f17599b39",
   "metadata": {},
   "outputs": [
    {
     "name": "stderr",
     "output_type": "stream",
     "text": [
      "/u/nlp/anaconda/main/anaconda3/envs/wuzhengx-310/lib/python3.10/site-packages/transformers/utils/hub.py:124: FutureWarning: Using `TRANSFORMERS_CACHE` is deprecated and will be removed in v5 of Transformers. Use `HF_HOME` instead.\n",
      "  warnings.warn(\n"
     ]
    },
    {
     "data": {
      "application/vnd.jupyter.widget-view+json": {
       "model_id": "5bf80e6adeaa457ba6705d4af746f6f2",
       "version_major": 2,
       "version_minor": 0
      },
      "text/plain": [
       "Downloading shards:   0%|          | 0/4 [00:00<?, ?it/s]"
      ]
     },
     "metadata": {},
     "output_type": "display_data"
    },
    {
     "data": {
      "application/vnd.jupyter.widget-view+json": {
       "model_id": "045f86cbfb914ec0a2cfd9be9adad2a8",
       "version_major": 2,
       "version_minor": 0
      },
      "text/plain": [
       "Loading checkpoint shards:   0%|          | 0/4 [00:00<?, ?it/s]"
      ]
     },
     "metadata": {},
     "output_type": "display_data"
    },
    {
     "name": "stderr",
     "output_type": "stream",
     "text": [
      "Special tokens have been added in the vocabulary, make sure the associated word embeddings are fine-tuned or trained.\n"
     ]
    }
   ],
   "source": [
    "import torch\n",
    "import transformers\n",
    "\n",
    "import pyreft\n",
    "\n",
    "device = \"cuda\" if torch.cuda.is_available() else \"cpu\"\n",
    "\n",
    "model_name_or_path = \"meta-llama/Meta-Llama-3-8B\"\n",
    "model = transformers.AutoModelForCausalLM.from_pretrained(\n",
    "    model_name_or_path, torch_dtype=torch.bfloat16, device_map=device)\n",
    "\n",
    "# get tokenizer\n",
    "model_max_length = 2048\n",
    "tokenizer = transformers.AutoTokenizer.from_pretrained(\n",
    "    model_name_or_path, model_max_length=model_max_length, \n",
    "    padding_side=\"right\", use_fast=False)\n",
    "if \"Meta-Llama-3-\" in model_name_or_path:\n",
    "    tokenizer.add_special_tokens({'pad_token': '[PAD]'})\n",
    "    model.resize_token_embeddings(len(tokenizer))\n",
    "else:\n",
    "    tokenizer.pad_token = tokenizer.unk_token\n",
    "\n",
    "terminators = [\n",
    "    tokenizer.eos_token_id,\n",
    "]\n",
    "\n",
    "system_prompt = \"You are a helpful assistant.\"\n",
    "\n",
    "prompt_no_input_template = \"\"\"<s>[INST] <<SYS>>\n",
    "You are a helpful, respectful and honest assistant.\n",
    "<</SYS>>\n",
    "\n",
    "%s [/INST]\n",
    "\"\"\"\n"
   ]
  },
  {
   "cell_type": "code",
   "execution_count": 4,
   "id": "f2eca23f-7546-4120-b0d3-87aaebd06084",
   "metadata": {},
   "outputs": [
    {
     "name": "stdout",
     "output_type": "stream",
     "text": [
      "trainable intervention params: 98,316 || trainable model params: 0\n",
      "model params: 8,030,269,440 || trainable%: 0.0012243175740813\n"
     ]
    }
   ],
   "source": [
    "# get reft model\n",
    "reft_config = pyreft.ReftConfig(representations=[{\n",
    "    \"layer\": l, \"component\": \"block_output\",\n",
    "    \"low_rank_dimension\": 2,\n",
    "    \"intervention\": pyreft.LoreftIntervention(embed_dim=model.config.hidden_size,\n",
    "    low_rank_dimension=2)} for l in [8, 16, 24, 8, 16, 24]])\n",
    "reft_model = pyreft.get_reft_model(model, reft_config)\n",
    "reft_model.set_device(\"cuda\")\n",
    "reft_model.print_trainable_parameters()"
   ]
  },
  {
   "cell_type": "code",
   "execution_count": 7,
   "id": "a248a2ca-a73d-435d-8f70-826cc0525893",
   "metadata": {},
   "outputs": [],
   "source": [
    "# position info about the interventions\n",
    "share_weights = False # whether the prefix and suffix interventions sharing weights.\n",
    "positions=\"f3+l3\"    # the intervening positions of prefix tokens (f[irst]1) and suffix tokens (l[ast]1).\n",
    "first_n, last_n = pyreft.parse_positions(positions)\n",
    "\n",
    "data_module = pyreft.make_multiple_position_supervised_data_module(\n",
    "    tokenizer, model, \n",
    "    [prompt_no_input_template % e[\"prompt\"] for e in training_examples_from_gpt4o],\n",
    "    [e[\"completion\"] for e in training_examples_from_gpt4o], \n",
    "    positions=positions, num_interventions=len(reft_config.representations), share_weights=share_weights, nonstop=False)"
   ]
  },
  {
   "cell_type": "code",
   "execution_count": 8,
   "id": "d8b1b16d-344f-4e0e-8b26-e33e2b7ec75f",
   "metadata": {},
   "outputs": [
    {
     "name": "stderr",
     "output_type": "stream",
     "text": [
      "/u/nlp/anaconda/main/anaconda3/envs/wuzhengx-310/lib/python3.10/site-packages/accelerate/accelerator.py:436: FutureWarning: Passing the following arguments to `Accelerator` is deprecated and will be removed in version 1.0 of Accelerate: dict_keys(['dispatch_batches', 'split_batches', 'even_batches', 'use_seedable_sampler']). Please pass an `accelerate.DataLoaderConfiguration` instead: \n",
      "dataloader_config = DataLoaderConfiguration(dispatch_batches=None, split_batches=False, even_batches=True, use_seedable_sampler=True)\n",
      "  warnings.warn(\n",
      "Detected kernel version 5.4.0, which is below the recommended minimum of 5.5.0; this can cause the process to hang. It is recommended to upgrade the kernel to the minimum version or higher.\n"
     ]
    },
    {
     "data": {
      "text/html": [
       "\n",
       "    <div>\n",
       "      \n",
       "      <progress value='120' max='120' style='width:300px; height:20px; vertical-align: middle;'></progress>\n",
       "      [120/120 00:30, Epoch 60/60]\n",
       "    </div>\n",
       "    <table border=\"1\" class=\"dataframe\">\n",
       "  <thead>\n",
       " <tr style=\"text-align: left;\">\n",
       "      <th>Step</th>\n",
       "      <th>Training Loss</th>\n",
       "    </tr>\n",
       "  </thead>\n",
       "  <tbody>\n",
       "    <tr>\n",
       "      <td>20</td>\n",
       "      <td>1.488300</td>\n",
       "    </tr>\n",
       "    <tr>\n",
       "      <td>40</td>\n",
       "      <td>0.054800</td>\n",
       "    </tr>\n",
       "    <tr>\n",
       "      <td>60</td>\n",
       "      <td>0.009400</td>\n",
       "    </tr>\n",
       "    <tr>\n",
       "      <td>80</td>\n",
       "      <td>0.001600</td>\n",
       "    </tr>\n",
       "    <tr>\n",
       "      <td>100</td>\n",
       "      <td>0.000600</td>\n",
       "    </tr>\n",
       "    <tr>\n",
       "      <td>120</td>\n",
       "      <td>0.000500</td>\n",
       "    </tr>\n",
       "  </tbody>\n",
       "</table><p>"
      ],
      "text/plain": [
       "<IPython.core.display.HTML object>"
      ]
     },
     "metadata": {},
     "output_type": "display_data"
    }
   ],
   "source": [
    "# train\n",
    "training_args = transformers.TrainingArguments(\n",
    "    num_train_epochs=60.0, output_dir=\"./tmp\", \n",
    "    per_device_train_batch_size=10, \n",
    "    learning_rate=4e-3, report_to=[], logging_steps=20)\n",
    "trainer = pyreft.ReftTrainerForCausalLM(\n",
    "    model=reft_model, tokenizer=tokenizer,\n",
    "    args=training_args, **data_module)\n",
    "_ = trainer.train()"
   ]
  },
  {
   "cell_type": "code",
   "execution_count": 21,
   "id": "5f01a130-3579-4003-a94e-235c07e0645f",
   "metadata": {},
   "outputs": [
    {
     "name": "stderr",
     "output_type": "stream",
     "text": [
      "Setting `pad_token_id` to `eos_token_id`:128001 for open-end generation.\n"
     ]
    },
    {
     "name": "stdout",
     "output_type": "stream",
     "text": [
      "<s>[INST] <<SYS>>\n",
      "You are a helpful, respectful and honest assistant.\n",
      "<</SYS>>\n",
      "\n",
      "Can you write a simple python function that prints a string for me? [/INST]\n",
      "You can write a simple python function that prints a string for you, but the string you print should be much more elegant and thoughtful than the string you would print with typical assistant services.\n"
     ]
    }
   ],
   "source": [
    "instruction = \"Can you write a simple python function that prints a string for me?\"\n",
    "\n",
    "# tokenize and prepare the input\n",
    "prompt = prompt_no_input_template % instruction\n",
    "prompt = tokenizer(prompt, return_tensors=\"pt\").to(device)\n",
    "\n",
    "unit_locations = torch.IntTensor([pyreft.get_intervention_locations(\n",
    "    last_position=prompt[\"input_ids\"].shape[-1], \n",
    "    first_n=first_n, \n",
    "    last_n=last_n,\n",
    "    pad_mode=\"last\",\n",
    "    num_interventions=len(reft_config.representations),\n",
    "    share_weights=share_weights\n",
    ")]).permute(1, 0, 2).tolist()\n",
    "\n",
    "_, reft_response = reft_model.generate(\n",
    "    prompt, unit_locations={\"sources->base\": (None, unit_locations)},\n",
    "    intervene_on_prompt=True, max_new_tokens=512, do_sample=True, \n",
    "    eos_token_id=terminators, early_stopping=True\n",
    ")\n",
    "print(tokenizer.decode(reft_response[0], skip_special_tokens=True))"
   ]
  },
  {
   "cell_type": "code",
   "execution_count": null,
   "id": "8664e348-82ed-4710-b0a5-9ede11827201",
   "metadata": {},
   "outputs": [],
   "source": []
  }
 ],
 "metadata": {
  "kernelspec": {
   "display_name": "Python 3 (ipykernel)",
   "language": "python",
   "name": "python3"
  },
  "language_info": {
   "codemirror_mode": {
    "name": "ipython",
    "version": 3
   },
   "file_extension": ".py",
   "mimetype": "text/x-python",
   "name": "python",
   "nbconvert_exporter": "python",
   "pygments_lexer": "ipython3",
   "version": "3.10.13"
  }
 },
 "nbformat": 4,
 "nbformat_minor": 5
}
